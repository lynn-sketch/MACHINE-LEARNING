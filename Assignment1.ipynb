{
 "cells": [
  {
   "cell_type": "code",
   "execution_count": 16,
   "metadata": {},
   "outputs": [],
   "source": [
    "import sympy as sp\n",
    "import numpy as np\n"
   ]
  },
  {
   "cell_type": "code",
   "execution_count": 18,
   "metadata": {},
   "outputs": [
    {
     "name": "stdout",
     "output_type": "stream",
     "text": [
      "(tan(x)**2 + tan(x)*sec(x) + 1)/(tan(x) + sec(x))\n"
     ]
    }
   ],
   "source": [
    "#number 1\n",
    "#define the symbol\n",
    "x=sp.symbols('x')\n",
    "#define the function\n",
    "f=sp.log(sp.tan(x)+sp.sec(x))\n",
    "#differentiate your function with respect to your symbol\n",
    "f_prime=sp.diff(f,x)\n",
    "print(f_prime)\n"
   ]
  },
  {
   "cell_type": "code",
   "execution_count": 19,
   "metadata": {},
   "outputs": [
    {
     "data": {
      "text/latex": [
       "$\\displaystyle - \\frac{\\sin{\\left(x \\right)}}{\\sin{\\left(x \\right)} + 1} - \\frac{\\cos^{2}{\\left(x \\right)}}{\\left(\\sin{\\left(x \\right)} + 1\\right)^{2}}$"
      ],
      "text/plain": [
       "-sin(x)/(sin(x) + 1) - cos(x)**2/(sin(x) + 1)**2"
      ]
     },
     "execution_count": 19,
     "metadata": {},
     "output_type": "execute_result"
    }
   ],
   "source": [
    "#number 2\n",
    "x=sp.symbols('x')\n",
    "f=(sp.cos(x))/(1+sp.sin(x))\n",
    "f_prime=sp.diff(f,x)\n",
    "f_prime"
   ]
  },
  {
   "cell_type": "code",
   "execution_count": 20,
   "metadata": {},
   "outputs": [
    {
     "data": {
      "text/latex": [
       "$\\displaystyle 2 \\sin{\\left(x \\right)} \\cos{\\left(x \\right)}$"
      ],
      "text/plain": [
       "2*sin(x)*cos(x)"
      ]
     },
     "execution_count": 20,
     "metadata": {},
     "output_type": "execute_result"
    }
   ],
   "source": [
    "#number 3\n",
    "x=sp.symbols('x')\n",
    "f=sp.sin(x)**2\n",
    "f_prime=sp.diff(f,x)\n",
    "f_prime"
   ]
  },
  {
   "cell_type": "code",
   "execution_count": 21,
   "metadata": {},
   "outputs": [
    {
     "name": "stdout",
     "output_type": "stream",
     "text": [
      "(tan(x)**2 + 1)/sec(x) - tan(x)**2/sec(x)\n"
     ]
    }
   ],
   "source": [
    "#number 4\n",
    "x=sp.symbols('x')\n",
    "f=(sp.tan(x))/(sp.sec(x))\n",
    "f_prime=sp.diff(f,x)\n",
    "print(f_prime)"
   ]
  },
  {
   "cell_type": "code",
   "execution_count": 22,
   "metadata": {},
   "outputs": [
    {
     "data": {
      "text/latex": [
       "$\\displaystyle - \\sin^{2}{\\left(x \\right)} + \\cos^{2}{\\left(x \\right)}$"
      ],
      "text/plain": [
       "-sin(x)**2 + cos(x)**2"
      ]
     },
     "execution_count": 22,
     "metadata": {},
     "output_type": "execute_result"
    }
   ],
   "source": [
    "#number 5\n",
    "x=sp.symbols('x')\n",
    "f=(sp.sin(x))*(sp.cos(x))\n",
    "f_prime=sp.diff(f,x)\n",
    "f_prime"
   ]
  },
  {
   "cell_type": "code",
   "execution_count": 23,
   "metadata": {},
   "outputs": [
    {
     "data": {
      "text/latex": [
       "$\\displaystyle \\left(\\tan^{2}{\\left(x \\right)} + 1\\right) \\sec{\\left(x \\right)} + \\tan^{2}{\\left(x \\right)} \\sec{\\left(x \\right)}$"
      ],
      "text/plain": [
       "(tan(x)**2 + 1)*sec(x) + tan(x)**2*sec(x)"
      ]
     },
     "execution_count": 23,
     "metadata": {},
     "output_type": "execute_result"
    }
   ],
   "source": [
    "#number 6\n",
    "x=sp.symbols('x')\n",
    "f=(sp.sec(x))*(sp.tan(x))\n",
    "f_prime=sp.diff(f,x)\n",
    "f_prime"
   ]
  },
  {
   "cell_type": "code",
   "execution_count": 24,
   "metadata": {},
   "outputs": [
    {
     "data": {
      "text/latex": [
       "$\\displaystyle \\tan^{2}{\\left(x \\right)} + 1$"
      ],
      "text/plain": [
       "tan(x)**2 + 1"
      ]
     },
     "execution_count": 24,
     "metadata": {},
     "output_type": "execute_result"
    }
   ],
   "source": [
    "#number 7\n",
    "x=sp.symbols('x')\n",
    "f=sp.tan(x)\n",
    "f_prime=sp.diff(f,x)\n",
    "f_prime"
   ]
  },
  {
   "cell_type": "code",
   "execution_count": 25,
   "metadata": {},
   "outputs": [
    {
     "data": {
      "text/latex": [
       "$\\displaystyle - \\sin{\\left(x \\right)}$"
      ],
      "text/plain": [
       "-sin(x)"
      ]
     },
     "execution_count": 25,
     "metadata": {},
     "output_type": "execute_result"
    }
   ],
   "source": [
    "#number 8\n",
    "x=sp.symbols('x')\n",
    "f=sp.cos(x)\n",
    "f_prime=sp.diff(f,x)\n",
    "f_prime"
   ]
  },
  {
   "cell_type": "code",
   "execution_count": 30,
   "metadata": {},
   "outputs": [
    {
     "data": {
      "text/latex": [
       "$\\displaystyle \\cos{\\left(x \\right)}$"
      ],
      "text/plain": [
       "cos(x)"
      ]
     },
     "execution_count": 30,
     "metadata": {},
     "output_type": "execute_result"
    }
   ],
   "source": [
    "#number 9\n",
    "x=sp.symbols('x')\n",
    "f=sp.sin(x)\n",
    "f_prime=sp.diff(f,x)\n",
    "f_prime"
   ]
  },
  {
   "cell_type": "code",
   "execution_count": 27,
   "metadata": {},
   "outputs": [
    {
     "ename": "ImportError",
     "evalue": "cannot import name 'derivative' from 'scipy.misc' (C:\\Users\\HP PC\\AppData\\Roaming\\Python\\Python312\\site-packages\\scipy\\misc\\__init__.py)",
     "output_type": "error",
     "traceback": [
      "\u001b[1;31m---------------------------------------------------------------------------\u001b[0m",
      "\u001b[1;31mImportError\u001b[0m                               Traceback (most recent call last)",
      "Cell \u001b[1;32mIn[27], line 1\u001b[0m\n\u001b[1;32m----> 1\u001b[0m \u001b[38;5;28;01mfrom\u001b[39;00m \u001b[38;5;21;01mscipy\u001b[39;00m\u001b[38;5;21;01m.\u001b[39;00m\u001b[38;5;21;01mmisc\u001b[39;00m \u001b[38;5;28;01mimport\u001b[39;00m derivative\n\u001b[0;32m      2\u001b[0m \u001b[38;5;66;03m#define the function\u001b[39;00m\n\u001b[0;32m      3\u001b[0m \u001b[38;5;28;01mdef\u001b[39;00m \u001b[38;5;21mf\u001b[39m(x):\n",
      "\u001b[1;31mImportError\u001b[0m: cannot import name 'derivative' from 'scipy.misc' (C:\\Users\\HP PC\\AppData\\Roaming\\Python\\Python312\\site-packages\\scipy\\misc\\__init__.py)"
     ]
    }
   ],
   "source": [
    "from scipy.misc import derivative\n",
    "#define the function\n",
    "def f(x):\n",
    "    return (sp.cos(x))/(1+sp.sin(x))\n",
    "#computing the derivative at a specific point\n",
    "x_value=2\n",
    "f_prime=derivative(f,x_value,dx=1e-6)\n",
    "print(f\"Derivative at x={x_value}: {f_prime}\")"
   ]
  }
 ],
 "metadata": {
  "kernelspec": {
   "display_name": "Python 3",
   "language": "python",
   "name": "python3"
  },
  "language_info": {
   "codemirror_mode": {
    "name": "ipython",
    "version": 3
   },
   "file_extension": ".py",
   "mimetype": "text/x-python",
   "name": "python",
   "nbconvert_exporter": "python",
   "pygments_lexer": "ipython3",
   "version": "3.12.5"
  }
 },
 "nbformat": 4,
 "nbformat_minor": 2
}
