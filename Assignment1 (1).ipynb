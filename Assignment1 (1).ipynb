{
 "cells": [
  {
   "cell_type": "markdown",
   "metadata": {},
   "source": [
    "Assignment from moodle"
   ]
  },
  {
   "cell_type": "code",
   "execution_count": 2,
   "metadata": {},
   "outputs": [],
   "source": [
    "import sympy as sp\n",
    "import numpy as np\n"
   ]
  },
  {
   "cell_type": "code",
   "execution_count": 4,
   "metadata": {},
   "outputs": [
    {
     "data": {
      "text/latex": [
       "$\\displaystyle \\frac{\\tan^{2}{\\left(x \\right)} + \\tan{\\left(x \\right)} \\sec{\\left(x \\right)} + 1}{\\tan{\\left(x \\right)} + \\sec{\\left(x \\right)}}$"
      ],
      "text/plain": [
       "(tan(x)**2 + tan(x)*sec(x) + 1)/(tan(x) + sec(x))"
      ]
     },
     "execution_count": 4,
     "metadata": {},
     "output_type": "execute_result"
    }
   ],
   "source": [
    "#number 1\n",
    "#define the symbol\n",
    "x=sp.symbols('x')\n",
    "#define the function\n",
    "f=sp.log(sp.tan(x)+sp.sec(x))\n",
    "#differentiate your function with respect to your symbol\n",
    "f_prime=sp.diff(f,x)\n",
    "f_prime\n"
   ]
  },
  {
   "cell_type": "code",
   "execution_count": 5,
   "metadata": {},
   "outputs": [
    {
     "data": {
      "text/latex": [
       "$\\displaystyle - \\frac{\\sin{\\left(x \\right)}}{\\sin{\\left(x \\right)} + 1} - \\frac{\\cos^{2}{\\left(x \\right)}}{\\left(\\sin{\\left(x \\right)} + 1\\right)^{2}}$"
      ],
      "text/plain": [
       "-sin(x)/(sin(x) + 1) - cos(x)**2/(sin(x) + 1)**2"
      ]
     },
     "execution_count": 5,
     "metadata": {},
     "output_type": "execute_result"
    }
   ],
   "source": [
    "#number 2\n",
    "x=sp.symbols('x')\n",
    "f=(sp.cos(x))/(1+sp.sin(x))\n",
    "f_prime=sp.diff(f,x)\n",
    "f_prime"
   ]
  },
  {
   "cell_type": "code",
   "execution_count": 6,
   "metadata": {},
   "outputs": [
    {
     "data": {
      "text/latex": [
       "$\\displaystyle 2 \\sin{\\left(x \\right)} \\cos{\\left(x \\right)}$"
      ],
      "text/plain": [
       "2*sin(x)*cos(x)"
      ]
     },
     "execution_count": 6,
     "metadata": {},
     "output_type": "execute_result"
    }
   ],
   "source": [
    "#number 3\n",
    "x=sp.symbols('x')\n",
    "f=sp.sin(x)**2\n",
    "f_prime=sp.diff(f,x)\n",
    "f_prime"
   ]
  },
  {
   "cell_type": "code",
   "execution_count": 7,
   "metadata": {},
   "outputs": [
    {
     "data": {
      "text/latex": [
       "$\\displaystyle \\frac{\\tan^{2}{\\left(x \\right)} + 1}{\\sec{\\left(x \\right)}} - \\frac{\\tan^{2}{\\left(x \\right)}}{\\sec{\\left(x \\right)}}$"
      ],
      "text/plain": [
       "(tan(x)**2 + 1)/sec(x) - tan(x)**2/sec(x)"
      ]
     },
     "execution_count": 7,
     "metadata": {},
     "output_type": "execute_result"
    }
   ],
   "source": [
    "#number 4\n",
    "x=sp.symbols('x')\n",
    "f=(sp.tan(x))/(sp.sec(x))\n",
    "f_prime=sp.diff(f,x)\n",
    "f_prime"
   ]
  },
  {
   "cell_type": "code",
   "execution_count": 8,
   "metadata": {},
   "outputs": [
    {
     "data": {
      "text/latex": [
       "$\\displaystyle - \\sin^{2}{\\left(x \\right)} + \\cos^{2}{\\left(x \\right)}$"
      ],
      "text/plain": [
       "-sin(x)**2 + cos(x)**2"
      ]
     },
     "execution_count": 8,
     "metadata": {},
     "output_type": "execute_result"
    }
   ],
   "source": [
    "#number 5\n",
    "x=sp.symbols('x')\n",
    "f=(sp.sin(x))*(sp.cos(x))\n",
    "f_prime=sp.diff(f,x)\n",
    "f_prime"
   ]
  },
  {
   "cell_type": "code",
   "execution_count": 9,
   "metadata": {},
   "outputs": [
    {
     "data": {
      "text/latex": [
       "$\\displaystyle \\left(\\tan^{2}{\\left(x \\right)} + 1\\right) \\sec{\\left(x \\right)} + \\tan^{2}{\\left(x \\right)} \\sec{\\left(x \\right)}$"
      ],
      "text/plain": [
       "(tan(x)**2 + 1)*sec(x) + tan(x)**2*sec(x)"
      ]
     },
     "execution_count": 9,
     "metadata": {},
     "output_type": "execute_result"
    }
   ],
   "source": [
    "#number 6\n",
    "x=sp.symbols('x')\n",
    "f=(sp.sec(x))*(sp.tan(x))\n",
    "f_prime=sp.diff(f,x)\n",
    "f_prime"
   ]
  },
  {
   "cell_type": "code",
   "execution_count": 10,
   "metadata": {},
   "outputs": [
    {
     "data": {
      "text/latex": [
       "$\\displaystyle \\tan^{2}{\\left(x \\right)} + 1$"
      ],
      "text/plain": [
       "tan(x)**2 + 1"
      ]
     },
     "execution_count": 10,
     "metadata": {},
     "output_type": "execute_result"
    }
   ],
   "source": [
    "#number 7\n",
    "x=sp.symbols('x')\n",
    "f=sp.tan(x)\n",
    "f_prime=sp.diff(f,x)\n",
    "f_prime"
   ]
  },
  {
   "cell_type": "code",
   "execution_count": 31,
   "metadata": {},
   "outputs": [
    {
     "data": {
      "text/latex": [
       "$\\displaystyle - \\sin{\\left(x \\right)}$"
      ],
      "text/plain": [
       "-sin(x)"
      ]
     },
     "execution_count": 31,
     "metadata": {},
     "output_type": "execute_result"
    }
   ],
   "source": [
    "#number 8\n",
    "x=sp.symbols('x')\n",
    "f=sp.cos(x)\n",
    "f_prime=sp.diff(f,x)\n",
    "f_prime"
   ]
  },
  {
   "cell_type": "code",
   "execution_count": 12,
   "metadata": {},
   "outputs": [
    {
     "data": {
      "text/latex": [
       "$\\displaystyle \\cos{\\left(x \\right)}$"
      ],
      "text/plain": [
       "cos(x)"
      ]
     },
     "execution_count": 12,
     "metadata": {},
     "output_type": "execute_result"
    }
   ],
   "source": [
    "#number 9\n",
    "x=sp.symbols('x')\n",
    "f=sp.sin(x)\n",
    "f_prime=sp.diff(f,x)\n",
    "f_prime"
   ]
  },
  {
   "cell_type": "markdown",
   "metadata": {},
   "source": [
    "In Class Assignment"
   ]
  },
  {
   "cell_type": "code",
   "execution_count": 28,
   "metadata": {},
   "outputs": [
    {
     "ename": "TypeError",
     "evalue": "convolve1d() got an unexpected keyword argument 'dx'",
     "output_type": "error",
     "traceback": [
      "\u001b[1;31m---------------------------------------------------------------------------\u001b[0m",
      "\u001b[1;31mTypeError\u001b[0m                                 Traceback (most recent call last)",
      "Cell \u001b[1;32mIn[28], line 10\u001b[0m\n\u001b[0;32m      8\u001b[0m \u001b[38;5;66;03m#computing the derivative at a specific point\u001b[39;00m\n\u001b[0;32m      9\u001b[0m x_value\u001b[38;5;241m=\u001b[39m\u001b[38;5;241m2\u001b[39m\n\u001b[1;32m---> 10\u001b[0m f_prime\u001b[38;5;241m=\u001b[39m\u001b[43mconvolve1d\u001b[49m\u001b[43m(\u001b[49m\u001b[38;5;28;43;01mlambda\u001b[39;49;00m\u001b[43m \u001b[49m\u001b[43mx\u001b[49m\u001b[43m:\u001b[49m\u001b[43m \u001b[49m\u001b[43mf\u001b[49m\u001b[43m(\u001b[49m\u001b[43mx\u001b[49m\u001b[43m)\u001b[49m\u001b[38;5;241;43m.\u001b[39;49m\u001b[43mevalf\u001b[49m\u001b[43m(\u001b[49m\u001b[43m)\u001b[49m\u001b[43m,\u001b[49m\u001b[43mx_value\u001b[49m\u001b[43m,\u001b[49m\u001b[43mdx\u001b[49m\u001b[38;5;241;43m=\u001b[39;49m\u001b[38;5;241;43m1e-6\u001b[39;49m\u001b[43m)\u001b[49m\n\u001b[0;32m     11\u001b[0m \u001b[38;5;28mprint\u001b[39m(\u001b[38;5;124mf\u001b[39m\u001b[38;5;124m\"\u001b[39m\u001b[38;5;124mconvolve1d at x=\u001b[39m\u001b[38;5;132;01m{\u001b[39;00mx_value\u001b[38;5;132;01m}\u001b[39;00m\u001b[38;5;124m: \u001b[39m\u001b[38;5;132;01m{\u001b[39;00mf_prime\u001b[38;5;132;01m}\u001b[39;00m\u001b[38;5;124m\"\u001b[39m)\n\u001b[0;32m     13\u001b[0m \u001b[38;5;66;03m#define the function\u001b[39;00m\n",
      "\u001b[1;31mTypeError\u001b[0m: convolve1d() got an unexpected keyword argument 'dx'"
     ]
    }
   ],
   "source": [
    "import sympy as sp\n",
    "from scipy.ndimage import convolve1d\n",
    "\n",
    "#define the function\n",
    "def f(x):\n",
    "    return (sp.cos(x))/(1+sp.sin(x))\n",
    "\n",
    "#computing the derivative at a specific point\n",
    "x_value=2\n",
    "f_prime=convolve1d(lambda x: f(x).evalf(),x_value,dx=1e-6)\n",
    "print(f\"convolve1d at x={x_value}: {f_prime}\")\n",
    "\n",
    "#define the function\n",
    "def f(x):\n",
    "    return (sp.cos(x))/(1+sp.sin(x))\n",
    "\n",
    "#computing the derivative at a specific point\n",
    "x_value=2\n",
    "f_prime=convolve1d(f,x_value,dx=1e-6)\n",
    "print(f\"convolve1d at x={x_value}: {f_prime}\")"
   ]
  },
  {
   "cell_type": "code",
   "execution_count": 29,
   "metadata": {},
   "outputs": [
    {
     "name": "stdout",
     "output_type": "stream",
     "text": [
      "sin(x)\n"
     ]
    }
   ],
   "source": [
    "#INTEGRATION\n",
    "x = sp.symbols('x')\n",
    "f = sp.cos(x)\n",
    "# Compute the indefinite integral\n",
    "indefinite_integral = sp.integrate(f, x)\n",
    "print( indefinite_integral)\n"
   ]
  },
  {
   "cell_type": "code",
   "execution_count": 30,
   "metadata": {},
   "outputs": [
    {
     "name": "stdout",
     "output_type": "stream",
     "text": [
      "cos(x)\n"
     ]
    }
   ],
   "source": [
    "#INTEGRATION\n",
    "x = sp.symbols('x')\n",
    "f = -sp.sin(x)\n",
    "# Compute the indefinite integral\n",
    "indefinite_integral = sp.integrate(f, x)\n",
    "print( indefinite_integral)\n"
   ]
  }
 ],
 "metadata": {
  "kernelspec": {
   "display_name": "Python 3",
   "language": "python",
   "name": "python3"
  },
  "language_info": {
   "codemirror_mode": {
    "name": "ipython",
    "version": 3
   },
   "file_extension": ".py",
   "mimetype": "text/x-python",
   "name": "python",
   "nbconvert_exporter": "python",
   "pygments_lexer": "ipython3",
   "version": "3.12.5"
  }
 },
 "nbformat": 4,
 "nbformat_minor": 2
}
